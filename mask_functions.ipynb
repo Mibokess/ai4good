{
 "cells": [
  {
   "cell_type": "markdown",
   "id": "cd31627d",
   "metadata": {},
   "source": [
    "https://www.openstreetmap.org/copyright"
   ]
  },
  {
   "cell_type": "code",
   "execution_count": 1,
   "id": "8907a25b",
   "metadata": {},
   "outputs": [],
   "source": [
    "import time\n",
    "import csv\n",
    "\n",
    "import osmnx as ox\n",
    "import networkx as nx\n",
    "\n",
    "from shapely.geometry import Point, box, Polygon\n",
    "\n",
    "import geopy.distance as geodesic\n",
    "import geopandas\n",
    "\n",
    "from pyproj import CRS\n",
    "\n",
    "import matplotlib.pyplot as plt\n",
    "from prettymaps import *"
   ]
  },
  {
   "cell_type": "code",
   "execution_count": 2,
   "id": "239f3362",
   "metadata": {},
   "outputs": [
    {
     "name": "stdout",
     "output_type": "stream",
     "text": [
      "2021-11-02 18:02:14 Configured OSMnx 1.0.1\n",
      "2021-11-02 18:02:14 HTTP response caching is on\n"
     ]
    }
   ],
   "source": [
    "useful_tags_way = ['bridge', 'tunnel', 'oneway', 'lanes', 'ref', 'name',\n",
    "                    'highway', 'maxspeed', 'service', 'access', 'area',\n",
    "                    'landuse', 'width', 'est_width', 'junction', 'surface']\n",
    "ox.utils.config(useful_tags_way=useful_tags_way)\n",
    "ox.config(use_cache=True, log_console=True, useful_tags_way=useful_tags_way)"
   ]
  },
  {
   "cell_type": "code",
   "execution_count": 3,
   "id": "74ba11c6",
   "metadata": {},
   "outputs": [],
   "source": [
    "park_filter = {\"leisure\":[\"park\",\"playground\"]}\n",
    "building_filter = {\"building\":True}"
   ]
  },
  {
   "cell_type": "code",
   "execution_count": 4,
   "id": "32834f9d",
   "metadata": {},
   "outputs": [],
   "source": [
    "epsg4326 = CRS.from_epsg(4326)"
   ]
  },
  {
   "cell_type": "code",
   "execution_count": 5,
   "id": "f4da244c",
   "metadata": {},
   "outputs": [],
   "source": [
    "place_name = \"Harlem, New York, USA\"\n",
    "place_name = \"Holtsville, New York, USA\""
   ]
  },
  {
   "cell_type": "code",
   "execution_count": 6,
   "id": "8cfee9f8",
   "metadata": {},
   "outputs": [],
   "source": [
    "def get_mask_from_place(place_name, mask_region=\"both\"):\n",
    "    \n",
    "    area = ox.geocode_to_gdf(place_name)\n",
    "    area_base = area.to_crs(epsg4326)\n",
    "    \n",
    "    w, n = area.bbox_west.asof(0), area.bbox_north.asof(0)\n",
    "    e, s = area.bbox_east.asof(0), area.bbox_south.asof(0)\n",
    "\n",
    "    a_w, a_n= area_base.bbox_west.asof(0), area_base.bbox_north.asof(0)\n",
    "    a_e, a_s = area_base.bbox_east.asof(0), area_base.bbox_south.asof(0)\n",
    "    \n",
    "    poly = Polygon( ( (a_w, a_n), (a_e, a_n), (a_e, a_s), (a_w, a_s), (a_w, a_n) ) )\n",
    "\n",
    "    d = {\"idx\": ['b'], 'geometry': poly}\n",
    "\n",
    "    gdf = geopandas.GeoDataFrame(d, crs=\"EPSG:4326\")\n",
    "    \n",
    "    use = mask_region\n",
    "\n",
    "    if use == \"street\":\n",
    "        drawing_kwargs = {\n",
    "                    'background': {'fc': '#000000', 'ec': '#000000', 'hatch': 'ooo...', 'zorder': -1},\n",
    "                    'perimeter': {'fc': '#000000', 'ec': '#000000', 'lw': 3, 'hatch': 'ooo...', 'hatch_c': '#000000',  'zorder': 0},\n",
    "                    'green': {'fc': '#000000', 'ec': '#000000', 'hatch_c': '#000000', 'hatch': 'ooo...', 'lw': 0, 'zorder': 1},\n",
    "                    'water': {'fc': '#000000', 'hatch': 'ooo...', 'hatch_c': '#000000', 'lw': 0, 'zorder': 2},\n",
    "                    # Street Mask On\n",
    "                    'streets': {'fc': '#FFFFFF', 'lw': 0, 'zorder': 3},\n",
    "                    # Building Mask Off\n",
    "                    'building': {'palette': ['#000000'], 'ec': '#000000', 'hatch': 'ooo...', 'hatch_c': '#000000', 'lw': 0, 'zorder': 4},\n",
    "                }\n",
    "    elif use == \"building\":\n",
    "        drawing_kwargs = {\n",
    "                'background': {'fc': '#000000', 'ec': '#000000', 'hatch': 'ooo...', 'zorder': -1},\n",
    "                'perimeter': {'fc': '#000000', 'ec': '#000000', 'lw': 3, 'hatch': 'ooo...', 'hatch_c': '#000000',  'zorder': 0},\n",
    "                'green': {'fc': '#000000', 'ec': '#000000', 'hatch_c': '#000000', 'hatch': 'ooo...', 'lw': 0, 'zorder': 1},\n",
    "                'water': {'fc': '#000000', 'hatch': 'ooo...', 'hatch_c': '#000000', 'lw': 0, 'zorder': 2},\n",
    "                # Street Mask Off\n",
    "                'streets': {'fc': '#000000', 'lw': 0, 'zorder': 3},\n",
    "                # Building Mask On\n",
    "                'building': {'palette': ['#FFFFFF'], 'ec': '#FFFFFF', 'hatch': 'ooo...', 'hatch_c': '#FFFFFF', 'lw': 0, 'zorder': 4},\n",
    "            }\n",
    "    else:\n",
    "        drawing_kwargs = {\n",
    "                'background': {'fc': '#000000', 'ec': '#000000', 'hatch': 'ooo...', 'zorder': -1},\n",
    "                'perimeter': {'fc': '#000000', 'ec': '#000000', 'lw': 3, 'hatch': 'ooo...', 'hatch_c': '#000000',  'zorder': 0},\n",
    "                'green': {'fc': '#000000', 'ec': '#000000', 'hatch_c': '#000000', 'hatch': 'ooo...', 'lw': 0, 'zorder': 1},\n",
    "                'water': {'fc': '#000000', 'hatch': 'ooo...', 'hatch_c': '#000000', 'lw': 0, 'zorder': 2},\n",
    "                # Street Mask On\n",
    "                'streets': {'fc': '#FFFFFF', 'lw': 0, 'zorder': 3},\n",
    "                # Building Mask On\n",
    "                'building': {'palette': ['#FFFFFF'], 'ec': '#FFFFFF', 'hatch': 'ooo...', 'hatch_c': '#FFFFFF', 'lw': 0, 'zorder': 4},\n",
    "            }\n",
    "    \n",
    "    fig, ax = plt.subplots(figsize = (12, 12), constrained_layout = True)\n",
    "\n",
    "    layers = plot(\n",
    "        gdf, \n",
    "\n",
    "        ax = ax,\n",
    "\n",
    "        layers = {\n",
    "                'perimeter': {},\n",
    "                'streets': {\n",
    "                    'width': {\n",
    "                        'motorway': 8,\n",
    "                        'trunk': 6,\n",
    "                        'primary': 6,\n",
    "                        'secondary': 5,\n",
    "                        'tertiary': 4,\n",
    "                        'residential': 3,\n",
    "                        'living_street': 3,\n",
    "                        'pedestrian': 1.5,\n",
    "                        'footway': 1.5,\n",
    "                        'track': 1,\n",
    "                        'bridleway': 1\n",
    "                    },\n",
    "                    'circle': False,\n",
    "                },\n",
    "                'building': {'tags': {'building': True}, 'union': False, 'circle': False,},\n",
    "                'water': {'tags': {'natural': ['water', 'bay']}, 'circle': False,},\n",
    "                'green': {'tags': {'landuse': 'grass', 'natural': ['island', 'wood'], 'leisure': 'park'}, 'circle': False,},\n",
    "            },\n",
    "            drawing_kwargs = drawing_kwargs,\n",
    "\n",
    "            osm_credit = False #{'x': .02, 'y': .01,'color': '#00000000'}\n",
    "    )\n",
    "    \n",
    "    plt.savefig('../data/' + place_name + '_' + use + '.png') "
   ]
  },
  {
   "cell_type": "code",
   "execution_count": 7,
   "id": "49432d6d",
   "metadata": {},
   "outputs": [],
   "source": [
    "# get_mask_from_place(place_name)"
   ]
  },
  {
   "cell_type": "code",
   "execution_count": 8,
   "id": "1b856f5e",
   "metadata": {},
   "outputs": [],
   "source": [
    "import ee\n",
    "import folium"
   ]
  },
  {
   "cell_type": "markdown",
   "id": "3dd1496f",
   "metadata": {},
   "source": [
    "Run 'ee.Authenticate()' once to let it use your GDrive to save the satellite images."
   ]
  },
  {
   "cell_type": "code",
   "execution_count": 9,
   "id": "c4a53552",
   "metadata": {},
   "outputs": [],
   "source": [
    "# ee.Authenticate()"
   ]
  },
  {
   "cell_type": "code",
   "execution_count": 10,
   "id": "932e7c5c",
   "metadata": {},
   "outputs": [],
   "source": [
    "ee.Initialize()"
   ]
  },
  {
   "cell_type": "code",
   "execution_count": 11,
   "id": "2863adc7",
   "metadata": {},
   "outputs": [],
   "source": [
    "def get_satellite_from_place(place_name):\n",
    "    area = ox.geocode_to_gdf(place_name)\n",
    "    area = area.to_crs(epsg4326)\n",
    "    \n",
    "    w, n = area.bbox_west.asof(0), area.bbox_north.asof(0)\n",
    "    e, s = area.bbox_east.asof(0), area.bbox_south.asof(0)\n",
    "    \n",
    "    rec = ee.Geometry.BBox(w, s, e, n)\n",
    "    \n",
    "    ee_image = (ee.ImageCollection('USDA/NAIP/DOQQ')\n",
    "            .filter(ee.Filter.date('2019-01-01', '2020-12-31'))\n",
    "            .filter(ee.Filter.bounds(rec))\n",
    "            .sort('CLOUDY_PIXEL_PERCENTAGE')\n",
    "            .mean())\n",
    "    \n",
    "    task = ee.batch.Export.image.toDrive(image=ee_image,\n",
    "                                     scale=0.5,\n",
    "                                     region=rec,\n",
    "                                     fileNamePrefix=place_name + '_ee',\n",
    "                                     maxPixels=1e13,\n",
    "                                     crs='EPSG:4326',\n",
    "                                     fileFormat='GEO_TIFF')\n",
    "    \n",
    "    task.start()\n",
    "    \n",
    "    return task"
   ]
  },
  {
   "cell_type": "code",
   "execution_count": 12,
   "id": "21c7c055",
   "metadata": {},
   "outputs": [
    {
     "name": "stdout",
     "output_type": "stream",
     "text": [
      "2021-11-02 18:02:22 Retrieved response from cache file \"cache/6c8f66530cf2d0e4a2ebda9920b45dcfce4ebf6d.json\"\n",
      "2021-11-02 18:02:22 Created GeoDataFrame with 1 rows from 1 queries\n"
     ]
    }
   ],
   "source": [
    "task = get_satellite_from_place(place_name)"
   ]
  },
  {
   "cell_type": "code",
   "execution_count": 13,
   "id": "dce9bae3",
   "metadata": {},
   "outputs": [
    {
     "data": {
      "text/plain": [
       "' Start task only if not yet downloaded. '"
      ]
     },
     "execution_count": 13,
     "metadata": {},
     "output_type": "execute_result"
    }
   ],
   "source": [
    "\"\"\" Start task only if not yet downloaded. \"\"\"\n",
    "# task.start()"
   ]
  },
  {
   "cell_type": "code",
   "execution_count": 14,
   "id": "104ad01a",
   "metadata": {},
   "outputs": [],
   "source": [
    "# task.status()"
   ]
  },
  {
   "cell_type": "markdown",
   "id": "78faf490",
   "metadata": {},
   "source": [
    "### Run to Download\n",
    "This will go through the US City List and download the areas that exist on Open Street Maps.\n",
    "\n",
    "Satellite images get large really quick! <br>\n",
    "One image can easily be 1GB or more."
   ]
  },
  {
   "cell_type": "code",
   "execution_count": 17,
   "id": "b013538c",
   "metadata": {},
   "outputs": [
    {
     "name": "stdout",
     "output_type": "stream",
     "text": [
      "\n",
      "coutner:  10\n",
      "Bo Guaniquilla, Puerto Rico, USA\n",
      "area not found2021-11-02 18:06:42 Retrieved response from cache file \"cache/dab14dbe666a27efd071457847df55e300827eb7.json\"\n",
      "\n",
      "\n",
      "coutner:  11\n",
      "Aguada, Puerto Rico, USA\n",
      "2021-11-02 18:06:42 Retrieved response from cache file \"cache/2210112cbd05e9fefe899e89b110bb00a482ca56.json\"\n",
      "area exists\n",
      "2021-11-02 18:06:42 Created GeoDataFrame with 1 rows from 1 queries\n",
      "\n",
      "coutner:  12\n",
      "Ext Los Robles, Puerto Rico, USA\n",
      "area not found2021-11-02 18:06:42 Retrieved response from cache file \"cache/acf48865caa9729a915b08604ad36989b6a70d4b.json\"\n",
      "\n",
      "\n",
      "coutner:  13\n",
      "Ramey, Puerto Rico, USA\n",
      "2021-11-02 18:06:42 Retrieved response from cache file \"cache/3aa74538e7a750a54b54990d88c54980156fbc16.json\"\n",
      "2021-11-02 18:06:42 Created GeoDataFrame with 1 rows from 1 queries\n",
      "area exists\n",
      "\n",
      "coutner:  14\n",
      "Aguadilla, Puerto Rico, USA\n",
      "2021-11-02 18:06:42 Retrieved response from cache file \"cache/1b907197cfe47d538575004bf0225eb76306facb.json\"\n",
      "area exists\n",
      "\n",
      "coutner: 2021-11-02 18:06:42 Created GeoDataFrame with 1 rows from 1 queries\n",
      " 15\n",
      "Repto Lopez, Puerto Rico, USA\n",
      "area not found\n",
      "2021-11-02 18:06:42 Retrieved response from cache file \"cache/881b67d4aa830f503dbad03d0224d8db30cb8e67.json\"\n",
      "\n",
      "coutner:  16\n",
      "URB Maleza Gdns, Puerto Rico, USA\n",
      "area not found2021-11-02 18:06:42 Retrieved response from cache file \"cache/5e647715c6371f9d5730068388b5fac7713da3db.json\"\n",
      "\n",
      "\n",
      "coutner:  17\n",
      "URB Victoria, Puerto Rico, USA\n",
      "area not found2021-11-02 18:06:42 Retrieved response from cache file \"cache/de9babbdc27de9c873f5bcbdfc72fadd8d0d507e.json\"\n",
      "\n",
      "\n",
      "coutner:  18\n",
      "Repto Tres Palmas, Puerto Rico, USA\n",
      "area not found\n",
      "\n",
      "coutner:  19\n",
      "Sect Las Villas, Puerto Rico, USA\n",
      "2021-11-02 18:06:42 Retrieved response from cache file \"cache/f1aa66a4baa2d3321412110c4741775729efba40.json\"\n",
      "area not found\n",
      "2021-11-02 18:06:42 Retrieved response from cache file \"cache/571a0d2960acfa079a6ba4dd34b06d05de504a23.json\"\n"
     ]
    },
    {
     "ename": "IndexError",
     "evalue": "list index out of range",
     "output_type": "error",
     "traceback": [
      "\u001b[0;31m---------------------------------------------------------------------------\u001b[0m",
      "\u001b[0;31mIndexError\u001b[0m                                Traceback (most recent call last)",
      "\u001b[0;32m/tmp/ipykernel_7574/390452282.py\u001b[0m in \u001b[0;36m<module>\u001b[0;34m\u001b[0m\n\u001b[1;32m     12\u001b[0m \u001b[0;34m\u001b[0m\u001b[0m\n\u001b[1;32m     13\u001b[0m         \u001b[0mcities\u001b[0m \u001b[0;34m=\u001b[0m \u001b[0mrow\u001b[0m\u001b[0;34m[\u001b[0m\u001b[0;36m0\u001b[0m\u001b[0;34m]\u001b[0m\u001b[0;34m.\u001b[0m\u001b[0msplit\u001b[0m\u001b[0;34m(\u001b[0m\u001b[0;34m'|'\u001b[0m\u001b[0;34m)\u001b[0m\u001b[0;34m\u001b[0m\u001b[0;34m\u001b[0m\u001b[0m\n\u001b[0;32m---> 14\u001b[0;31m         \u001b[0mplace\u001b[0m \u001b[0;34m=\u001b[0m \u001b[0mcities\u001b[0m\u001b[0;34m[\u001b[0m\u001b[0;36m4\u001b[0m\u001b[0;34m]\u001b[0m \u001b[0;34m+\u001b[0m \u001b[0;34m\", \"\u001b[0m \u001b[0;34m+\u001b[0m \u001b[0mcities\u001b[0m\u001b[0;34m[\u001b[0m\u001b[0;36m2\u001b[0m\u001b[0;34m]\u001b[0m \u001b[0;34m+\u001b[0m \u001b[0;34m\", USA\"\u001b[0m\u001b[0;34m\u001b[0m\u001b[0;34m\u001b[0m\u001b[0m\n\u001b[0m\u001b[1;32m     15\u001b[0m \u001b[0;34m\u001b[0m\u001b[0m\n\u001b[1;32m     16\u001b[0m         \u001b[0;32mif\u001b[0m \u001b[0mcounter\u001b[0m \u001b[0;32min\u001b[0m \u001b[0mrange\u001b[0m\u001b[0;34m(\u001b[0m\u001b[0mlow\u001b[0m\u001b[0;34m,\u001b[0m \u001b[0mhigh\u001b[0m\u001b[0;34m)\u001b[0m\u001b[0;34m:\u001b[0m\u001b[0;34m\u001b[0m\u001b[0;34m\u001b[0m\u001b[0m\n",
      "\u001b[0;31mIndexError\u001b[0m: list index out of range"
     ]
    }
   ],
   "source": [
    "with open('CSV_Files/us_cities_states_counties.csv') as f:\n",
    "    reader = csv.reader(f)\n",
    "    \n",
    "    sleep_time = 60  # in seconds\n",
    "    low = 0\n",
    "    high = 100\n",
    "    \n",
    "    counter = 0\n",
    "    \n",
    "    for row in reader:\n",
    "        \n",
    "        \n",
    "        cities = row[0].split('|')\n",
    "        place = cities[4] + \", \" + cities[2] + \", USA\"\n",
    "        \n",
    "        if counter in range(low, high):\n",
    "            print(\"\\ncoutner: \", counter)\n",
    "            print(place)\n",
    "\n",
    "            try:\n",
    "                area = ox.geocode_to_gdf(place)\n",
    "                print(\"area exists\")\n",
    "                \n",
    "                new_file = open(\"satellite_downloaded_cities.csv\", 'a')\n",
    "                new_file.write(place + \"\\n\")\n",
    "                new_file.close()\n",
    "                \n",
    "                # gets the png and downloads satellite images form earth engine\n",
    "                #get_mask_from_place(place, mask_region=\"both\")\n",
    "                get_satellite_from_place(place)\n",
    "                \n",
    "\n",
    "            except:\n",
    "                print(\"area not found\")\n",
    "        \n",
    "        \n",
    "        counter += 1\n",
    "            \n",
    "        time.sleep(sleep_time)\n",
    "    \n",
    "    f.close()\n"
   ]
  },
  {
   "cell_type": "code",
   "execution_count": null,
   "id": "94fd8732",
   "metadata": {},
   "outputs": [],
   "source": []
  }
 ],
 "metadata": {
  "kernelspec": {
   "display_name": "ml",
   "language": "python",
   "name": "ml"
  },
  "language_info": {
   "codemirror_mode": {
    "name": "ipython",
    "version": 3
   },
   "file_extension": ".py",
   "mimetype": "text/x-python",
   "name": "python",
   "nbconvert_exporter": "python",
   "pygments_lexer": "ipython3",
   "version": "3.9.7"
  }
 },
 "nbformat": 4,
 "nbformat_minor": 5
}
