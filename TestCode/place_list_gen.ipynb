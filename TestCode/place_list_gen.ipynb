{
 "cells": [
  {
   "cell_type": "code",
   "execution_count": 1,
   "source": [
    "import numpy as np\r\n",
    "import pandas as pd\r\n",
    "import os"
   ],
   "outputs": [],
   "metadata": {}
  },
  {
   "cell_type": "code",
   "execution_count": 2,
   "source": [
    "def full_list ():\r\n",
    "    parent_d = os.path.dirname(os.getcwd())\r\n",
    "    places = pd.read_csv(parent_d + \"/CSV_Files/\" + \"us_cities_states_counties.csv\", sep=\"|\")\r\n",
    "    places = places.drop(labels=\"City alias\", axis=1)\r\n",
    "    places = places.sort_values(\"City\").drop_duplicates(subset=[\"State short\", \"State full\", \"County\"], keep=\"last\")\r\n",
    "    places = places.reset_index(drop=True)\r\n",
    "\r\n",
    "    return places"
   ],
   "outputs": [],
   "metadata": {}
  },
  {
   "cell_type": "code",
   "execution_count": 3,
   "source": [
    "def get_places(n:int=10, only_state:str=None) -> pd.DataFrame:\r\n",
    "    places = full_list()\r\n",
    "    if only_state != None:\r\n",
    "        if len(only_state) == 2:\r\n",
    "            places = places.loc[places[\"State short\"] == only_state]\r\n",
    "        else:\r\n",
    "            places = places.loc[places[\"State full\"] == only_state]\r\n",
    "    places = places.sample(n=n)\r\n",
    "\r\n",
    "    return places"
   ],
   "outputs": [],
   "metadata": {}
  },
  {
   "cell_type": "code",
   "execution_count": 4,
   "source": [
    "get_places(5, \"GA\")"
   ],
   "outputs": [
    {
     "output_type": "execute_result",
     "data": {
      "text/plain": [
       "            City State short State full     County\n",
       "1129      Sparta          GA    Georgia    HANCOCK\n",
       "2956   Woodstock          GA    Georgia   CHEROKEE\n",
       "675   Reidsville          GA    Georgia   TATTNALL\n",
       "145    Hephzibah          GA    Georgia   RICHMOND\n",
       "3018       Wrens          GA    Georgia  JEFFERSON"
      ],
      "text/html": [
       "<div>\n",
       "<style scoped>\n",
       "    .dataframe tbody tr th:only-of-type {\n",
       "        vertical-align: middle;\n",
       "    }\n",
       "\n",
       "    .dataframe tbody tr th {\n",
       "        vertical-align: top;\n",
       "    }\n",
       "\n",
       "    .dataframe thead th {\n",
       "        text-align: right;\n",
       "    }\n",
       "</style>\n",
       "<table border=\"1\" class=\"dataframe\">\n",
       "  <thead>\n",
       "    <tr style=\"text-align: right;\">\n",
       "      <th></th>\n",
       "      <th>City</th>\n",
       "      <th>State short</th>\n",
       "      <th>State full</th>\n",
       "      <th>County</th>\n",
       "    </tr>\n",
       "  </thead>\n",
       "  <tbody>\n",
       "    <tr>\n",
       "      <th>1129</th>\n",
       "      <td>Sparta</td>\n",
       "      <td>GA</td>\n",
       "      <td>Georgia</td>\n",
       "      <td>HANCOCK</td>\n",
       "    </tr>\n",
       "    <tr>\n",
       "      <th>2956</th>\n",
       "      <td>Woodstock</td>\n",
       "      <td>GA</td>\n",
       "      <td>Georgia</td>\n",
       "      <td>CHEROKEE</td>\n",
       "    </tr>\n",
       "    <tr>\n",
       "      <th>675</th>\n",
       "      <td>Reidsville</td>\n",
       "      <td>GA</td>\n",
       "      <td>Georgia</td>\n",
       "      <td>TATTNALL</td>\n",
       "    </tr>\n",
       "    <tr>\n",
       "      <th>145</th>\n",
       "      <td>Hephzibah</td>\n",
       "      <td>GA</td>\n",
       "      <td>Georgia</td>\n",
       "      <td>RICHMOND</td>\n",
       "    </tr>\n",
       "    <tr>\n",
       "      <th>3018</th>\n",
       "      <td>Wrens</td>\n",
       "      <td>GA</td>\n",
       "      <td>Georgia</td>\n",
       "      <td>JEFFERSON</td>\n",
       "    </tr>\n",
       "  </tbody>\n",
       "</table>\n",
       "</div>"
      ]
     },
     "metadata": {},
     "execution_count": 4
    }
   ],
   "metadata": {}
  }
 ],
 "metadata": {
  "orig_nbformat": 4,
  "language_info": {
   "name": "python",
   "version": "3.8.5",
   "mimetype": "text/x-python",
   "codemirror_mode": {
    "name": "ipython",
    "version": 3
   },
   "pygments_lexer": "ipython3",
   "nbconvert_exporter": "python",
   "file_extension": ".py"
  },
  "kernelspec": {
   "name": "python3",
   "display_name": "Python 3.8.5 64-bit ('base': conda)"
  },
  "interpreter": {
   "hash": "035816c817341503006e0a8714912042b4c6673b969b2520b787454674f444b8"
  }
 },
 "nbformat": 4,
 "nbformat_minor": 2
}